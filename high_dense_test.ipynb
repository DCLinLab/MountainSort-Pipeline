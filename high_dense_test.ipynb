{
 "cells": [
  {
   "metadata": {},
   "cell_type": "markdown",
   "source": "# Test MoutainSort5 on high density probes",
   "id": "e98f3b43c4531df4"
  },
  {
   "metadata": {
    "ExecuteTime": {
     "end_time": "2024-11-11T03:10:00.237758Z",
     "start_time": "2024-11-11T03:10:00.232458Z"
    }
   },
   "cell_type": "code",
   "source": [
    "import numpy as np\n",
    "import spikeinterface.preprocessing as spre\n",
    "import mountainsort5 as ms5\n",
    "from mountainsort5.util import create_cached_recording\n",
    "from utils.loaders import rhd_load, load_intan_impedance\n",
    "from pathlib import Path\n",
    "from probeinterface import read_probeinterface\n",
    "from utils import clean_channels_by_imp\n",
    "import spikeinterface.extractors as se\n",
    "import spikeinterface as si\n",
    "import spikeinterface.widgets as sw\n",
    "import spikeinterface.exporters as sexp"
   ],
   "id": "dcea378a5526dace",
   "outputs": [],
   "execution_count": 16
  },
  {
   "metadata": {},
   "cell_type": "markdown",
   "source": [
    "## Try with scheme1\n",
    "Scheme1 is meant to test parameters"
   ],
   "id": "bc7bd2b65b098c3c"
  },
  {
   "metadata": {},
   "cell_type": "markdown",
   "source": "Load testing data",
   "id": "dab8a22e35a2a4c7"
  },
  {
   "metadata": {
    "ExecuteTime": {
     "end_time": "2024-11-11T00:55:02.867817Z",
     "start_time": "2024-11-11T00:55:01.474040Z"
    }
   },
   "cell_type": "code",
   "source": [
    "rhd_folder = Path(r'D:\\Yongzhi_Sun\\01_Raw_Data\\Yongzhi_Sun\\intan\\curved_120_design1\\20240905_m1\\w5')\n",
    "recording = rhd_load(rhd_folder, (3, 13))\n",
    "probe = read_probeinterface('probe/120_curved.json').probes[0]\n",
    "recording = recording.set_probe(probe)"
   ],
   "id": "8e1e9e109cfeb2d0",
   "outputs": [
    {
     "name": "stderr",
     "output_type": "stream",
     "text": [
      "Loading RHD2000 files: 100%|██████████| 10/10 [00:01<00:00,  7.31it/s]\n"
     ]
    }
   ],
   "execution_count": 2
  },
  {
   "metadata": {},
   "cell_type": "markdown",
   "source": "Filter channels",
   "id": "712ffbba1aa656e1"
  },
  {
   "metadata": {
    "ExecuteTime": {
     "end_time": "2024-11-11T00:55:04.656804Z",
     "start_time": "2024-11-11T00:55:04.598999Z"
    }
   },
   "cell_type": "code",
   "source": [
    "imps = load_intan_impedance(next(rhd_folder.glob('*.csv')))\n",
    "recording = clean_channels_by_imp(recording, imps, 3e6)"
   ],
   "id": "2ad61afe7d7daf12",
   "outputs": [],
   "execution_count": 3
  },
  {
   "metadata": {},
   "cell_type": "markdown",
   "source": "Preprocessing",
   "id": "d79da0420a4d6a1d"
  },
  {
   "metadata": {
    "ExecuteTime": {
     "end_time": "2024-11-11T00:55:16.590284Z",
     "start_time": "2024-11-11T00:55:13.400576Z"
    }
   },
   "cell_type": "code",
   "source": [
    "recording_filtered = spre.bandpass_filter(recording, freq_min=300, freq_max=6000, dtype=np.float32)\n",
    "recording_preprocessed = spre.whiten(recording_filtered)"
   ],
   "id": "580d1e81ebc2940b",
   "outputs": [],
   "execution_count": 4
  },
  {
   "metadata": {},
   "cell_type": "markdown",
   "source": [
    "Sorting\n",
    "\n",
    "Params to care about:\n",
    "* sign of the spikes, default negative\n",
    "* detect channel radius: merge duplicated spike counts on nearby channels, default infinite\n",
    "* mask radius: remove interference to nearby channels"
   ],
   "id": "2543303616be3623"
  },
  {
   "metadata": {
    "ExecuteTime": {
     "end_time": "2024-11-11T01:27:46.993673Z",
     "start_time": "2024-11-11T01:19:14.488548Z"
    }
   },
   "cell_type": "code",
   "source": [
    "data_dir = Path(r'G:\\mountainsort_result') / rhd_folder.relative_to(r'D:\\Yongzhi_Sun\\01_Raw_Data\\Yongzhi_Sun\\intan')\n",
    "data_dir.mkdir(exist_ok=True, parents=True)\n",
    "# cache the recording to a temporary directory for efficient reading\n",
    "recording_cached = create_cached_recording(recording_preprocessed, folder=data_dir)\n",
    "\n",
    "# use scheme 1\n",
    "sorting = ms5.sorting_scheme1(\n",
    "    recording=recording_cached,\n",
    "    sorting_parameters=ms5.Scheme1SortingParameters(\n",
    "        detect_sign=-1,\n",
    "        detect_channel_radius=50,\n",
    "        snippet_mask_radius=100\n",
    "    )\n",
    ")"
   ],
   "id": "1a8f0d6a68e3b587",
   "outputs": [
    {
     "name": "stderr",
     "output_type": "stream",
     "text": [
      "write_binary_recording: 100%|##########| 601/601 [02:12<00:00,  4.53it/s]\n"
     ]
    },
    {
     "name": "stdout",
     "output_type": "stream",
     "text": [
      "Number of channels: 108\n",
      "Number of timepoints: 12006400\n",
      "Sampling frequency: 20000.0 Hz\n",
      "Channel 0: [ 240.03134393 -117.87395681]\n",
      "Channel 1: [ 140.21150298 -111.87401064]\n",
      "Channel 2: [  40.39166204 -105.87406447]\n",
      "Channel 3: [-59.4281789 -99.8741183]\n",
      "Channel 4: [-159.24801985  -93.87417213]\n",
      "Channel 5: [-259.06786079  -87.87422595]\n",
      "Channel 6: [-358.88770173  -81.87427978]\n",
      "Channel 7: [-458.70754268  -75.87433361]\n",
      "Channel 8: [-558.52738362  -69.87438744]\n",
      "Channel 9: [-658.34722456  -63.87444126]\n",
      "Channel 10: [-758.16706551  -57.87449509]\n",
      "Channel 11: [-857.98690645  -51.87454892]\n",
      "Channel 12: [-957.80674739  -45.87460275]\n",
      "Channel 13: [-1057.62658834   -39.87465658]\n",
      "Channel 14: [-1157.44642928   -33.8747104 ]\n",
      "Channel 15: [-1257.26627022   -27.87476423]\n",
      "Channel 16: [-1357.08611117   -21.87481806]\n",
      "Channel 17: [-1456.90595211   -15.87487189]\n",
      "Channel 18: [-1556.72579305    -9.87492571]\n",
      "Channel 19: [-1656.545634      -3.87497954]\n",
      "Channel 20: [-1756.36547494     2.12496663]\n",
      "Channel 21: [-1856.18531588     8.1249128 ]\n",
      "Channel 22: [-1956.00515683    14.12485897]\n",
      "Channel 23: [-2055.82499777    20.12480515]\n",
      "Channel 24: [-2155.64483871    26.12475132]\n",
      "Channel 25: [-2255.46467966    32.12469749]\n",
      "Channel 26: [-2704.6539639     59.12445527]\n",
      "Channel 27: [-2604.83412296    53.12450909]\n",
      "Channel 28: [-2405.19444107    41.12461675]\n",
      "Channel 29: [-2305.37460013    35.12467058]\n",
      "Channel 30: [-2205.55475918    29.12472441]\n",
      "Channel 31: [-2005.9150773     17.12483206]\n",
      "Channel 32: [-1906.09523635    11.12488589]\n",
      "Channel 33: [-1806.27539541     5.12493972]\n",
      "Channel 34: [-1.70645555e+03 -8.75006456e-01]\n",
      "Channel 35: [-1606.63571352    -6.87495263]\n",
      "Channel 36: [-1506.81587258   -12.8748988 ]\n",
      "Channel 37: [-1406.99603164   -18.87484497]\n",
      "Channel 38: [-1307.17619069   -24.87479114]\n",
      "Channel 39: [-1107.53650881   -36.87468349]\n",
      "Channel 40: [-1007.71666787   -42.87462966]\n",
      "Channel 41: [-907.89682692  -48.87457583]\n",
      "Channel 42: [-808.07698598  -54.87452201]\n",
      "Channel 43: [-708.25714504  -60.87446818]\n",
      "Channel 44: [-608.43730409  -66.87441435]\n",
      "Channel 45: [-508.61746315  -72.87436052]\n",
      "Channel 46: [-408.79762221  -78.87430669]\n",
      "Channel 47: [-308.97778126  -84.87425287]\n",
      "Channel 48: [-209.15794032  -90.87419904]\n",
      "Channel 49: [-109.33809938  -96.87414521]\n",
      "Channel 50: [  -9.51825843 -102.87409138]\n",
      "Channel 51: [  90.30158251 -108.87403756]\n",
      "Channel 52: [ 190.12142345 -114.87398373]\n",
      "Channel 53: [ 299.55976749 -190.85764498]\n",
      "Channel 54: [ 399.37960843 -196.85759115]\n",
      "Channel 55: [ 499.19944938 -202.85753732]\n",
      "Channel 56: [ 599.01929032 -208.8574835 ]\n",
      "Channel 57: [ 698.83913126 -214.85742967]\n",
      "Channel 58: [ 798.65897221 -220.85737584]\n",
      "Channel 59: [ 898.47881315 -226.85732201]\n",
      "Channel 60: [ 998.29865409 -232.85726819]\n",
      "Channel 61: [1098.11849504 -238.85721436]\n",
      "Channel 62: [1197.93833598 -244.85716053]\n",
      "Channel 63: [1297.75817692 -250.8571067 ]\n",
      "Channel 64: [1397.57801787 -256.85705287]\n",
      "Channel 65: [1497.39785881 -262.85699905]\n",
      "Channel 66: [1597.21769975 -268.85694522]\n",
      "Channel 67: [1697.0375407  -274.85689139]\n",
      "Channel 68: [1796.85738164 -280.85683756]\n",
      "Channel 69: [1896.67722258 -286.85678374]\n",
      "Channel 70: [1996.49706352 -292.85672991]\n",
      "Channel 71: [2096.31690447 -298.85667608]\n",
      "Channel 72: [2196.13674541 -304.85662225]\n",
      "Channel 73: [2295.95658635 -310.85656842]\n",
      "Channel 74: [2395.7764273 -316.8565146]\n",
      "Channel 75: [2595.41610918 -328.85640694]\n",
      "Channel 76: [2695.23595013 -334.85635311]\n",
      "Channel 77: [2795.05579107 -340.85629929]\n",
      "Channel 78: [2894.87563201 -346.85624546]\n",
      "Channel 79: [3244.24507532 -367.85605706]\n",
      "Channel 80: [3044.60539343 -355.85616472]\n",
      "Channel 81: [2944.78555249 -349.85621854]\n",
      "Channel 82: [2844.96571154 -343.85627237]\n",
      "Channel 83: [2745.1458706 -337.8563262]\n",
      "Channel 84: [2645.32602966 -331.85638003]\n",
      "Channel 85: [2545.50618871 -325.85643386]\n",
      "Channel 86: [2445.68634777 -319.85648768]\n",
      "Channel 87: [2345.86650683 -313.85654151]\n",
      "Channel 88: [2246.04666588 -307.85659534]\n",
      "Channel 89: [2146.22682494 -301.85664917]\n",
      "Channel 90: [2046.406984   -295.85670299]\n",
      "Channel 91: [1946.58714305 -289.85675682]\n",
      "Channel 92: [1846.76730211 -283.85681065]\n",
      "Channel 93: [1746.94746117 -277.85686448]\n",
      "Channel 94: [1647.12762022 -271.85691831]\n",
      "Channel 95: [1547.30777928 -265.85697213]\n",
      "Channel 96: [1447.48793834 -259.85702596]\n",
      "Channel 97: [1347.66809739 -253.85707979]\n",
      "Channel 98: [1247.84825645 -247.85713362]\n",
      "Channel 99: [1148.02841551 -241.85718744]\n",
      "Channel 100: [1048.20857456 -235.85724127]\n",
      "Channel 101: [ 948.38873362 -229.8572951 ]\n",
      "Channel 102: [ 848.56889268 -223.85734893]\n",
      "Channel 103: [ 748.74905173 -217.85740276]\n",
      "Channel 104: [ 648.92921079 -211.85745658]\n",
      "Channel 105: [ 549.10936985 -205.85751041]\n",
      "Channel 106: [ 449.2895289  -199.85756424]\n",
      "Channel 107: [ 349.46968796 -193.85761807]\n",
      "Loading traces\n",
      "*** MS5 Elapsed time for load_traces: 0.000 seconds ***\n",
      "Detecting spikes\n",
      "\n",
      "Adjacency for detect spikes with channel radius 50\n",
      "[[0], [1, 51], [2, 51], [3, 49], [4, 49], [5, 47], [6, 47], [7, 45], [8, 45], [9, 43], [10, 43], [11, 41], [12, 41], [13, 39], [14], [15, 38], [16, 37], [17, 36], [18, 35], [19, 34], [20], [21, 32, 33], [22], [23, 31], [24], [25, 29, 30], [26], [27], [28], [25, 29], [25, 30], [23, 31], [21, 32], [21, 33], [19, 34], [18, 35], [17, 36], [16, 37], [15, 38], [13, 39], [40], [11, 12, 41], [42], [9, 10, 43], [44], [7, 8, 45], [46], [5, 6, 47], [48], [3, 4, 49], [50], [1, 2, 51], [52], [53, 107], [54, 107], [55, 105], [56, 105], [57, 103], [58, 103], [59, 101], [60, 101], [61, 99], [62, 99], [63, 97], [64, 96], [65, 95], [66, 94], [67, 93], [68, 92], [69, 91], [70], [71, 89, 90], [72], [73, 87, 88], [74], [75], [76, 83, 84], [77], [78, 81, 82], [79], [80], [78, 81], [78, 82], [76, 83], [76, 84], [85], [86], [73, 87], [73, 88], [71, 89], [71, 90], [69, 91], [68, 92], [67, 93], [66, 94], [65, 95], [64, 96], [63, 97], [98], [61, 62, 99], [100], [59, 60, 101], [102], [57, 58, 103], [104], [55, 56, 105], [106], [53, 54, 107]]\n",
      "\n",
      "m = 0 (nbhd size: 1)\n",
      "m = 1 (nbhd size: 2)\n",
      "m = 2 (nbhd size: 2)\n",
      "m = 3 (nbhd size: 2)\n",
      "m = 4 (nbhd size: 2)\n",
      "m = 5 (nbhd size: 2)\n",
      "m = 6 (nbhd size: 2)\n",
      "m = 7 (nbhd size: 2)\n",
      "m = 8 (nbhd size: 2)\n",
      "m = 9 (nbhd size: 2)\n",
      "m = 10 (nbhd size: 2)\n",
      "m = 11 (nbhd size: 2)\n",
      "m = 12 (nbhd size: 2)\n",
      "m = 13 (nbhd size: 2)\n",
      "m = 14 (nbhd size: 1)\n",
      "m = 15 (nbhd size: 2)\n",
      "m = 16 (nbhd size: 2)\n",
      "m = 17 (nbhd size: 2)\n",
      "m = 18 (nbhd size: 2)\n",
      "m = 19 (nbhd size: 2)\n",
      "m = 20 (nbhd size: 1)\n",
      "m = 21 (nbhd size: 3)\n",
      "m = 22 (nbhd size: 1)\n",
      "m = 23 (nbhd size: 2)\n",
      "m = 24 (nbhd size: 1)\n",
      "m = 25 (nbhd size: 3)\n",
      "m = 26 (nbhd size: 1)\n",
      "m = 27 (nbhd size: 1)\n",
      "m = 28 (nbhd size: 1)\n",
      "m = 29 (nbhd size: 2)\n",
      "m = 30 (nbhd size: 2)\n",
      "m = 31 (nbhd size: 2)\n",
      "m = 32 (nbhd size: 2)\n",
      "m = 33 (nbhd size: 2)\n",
      "m = 34 (nbhd size: 2)\n",
      "m = 35 (nbhd size: 2)\n",
      "m = 36 (nbhd size: 2)\n",
      "m = 37 (nbhd size: 2)\n",
      "m = 38 (nbhd size: 2)\n",
      "m = 39 (nbhd size: 2)\n",
      "m = 40 (nbhd size: 1)\n",
      "m = 41 (nbhd size: 3)\n",
      "m = 42 (nbhd size: 1)\n",
      "m = 43 (nbhd size: 3)\n",
      "m = 44 (nbhd size: 1)\n",
      "m = 45 (nbhd size: 3)\n",
      "m = 46 (nbhd size: 1)\n",
      "m = 47 (nbhd size: 3)\n",
      "m = 48 (nbhd size: 1)\n",
      "m = 49 (nbhd size: 3)\n",
      "m = 50 (nbhd size: 1)\n",
      "m = 51 (nbhd size: 3)\n",
      "m = 52 (nbhd size: 1)\n",
      "m = 53 (nbhd size: 2)\n",
      "m = 54 (nbhd size: 2)\n",
      "m = 55 (nbhd size: 2)\n",
      "m = 56 (nbhd size: 2)\n",
      "m = 57 (nbhd size: 2)\n",
      "m = 58 (nbhd size: 2)\n",
      "m = 59 (nbhd size: 2)\n",
      "m = 60 (nbhd size: 2)\n",
      "m = 61 (nbhd size: 2)\n",
      "m = 62 (nbhd size: 2)\n",
      "m = 63 (nbhd size: 2)\n",
      "m = 64 (nbhd size: 2)\n",
      "m = 65 (nbhd size: 2)\n",
      "m = 66 (nbhd size: 2)\n",
      "m = 67 (nbhd size: 2)\n",
      "m = 68 (nbhd size: 2)\n",
      "m = 69 (nbhd size: 2)\n",
      "m = 70 (nbhd size: 1)\n",
      "m = 71 (nbhd size: 3)\n",
      "m = 72 (nbhd size: 1)\n",
      "m = 73 (nbhd size: 3)\n",
      "m = 74 (nbhd size: 1)\n",
      "m = 75 (nbhd size: 1)\n",
      "m = 76 (nbhd size: 3)\n",
      "m = 77 (nbhd size: 1)\n",
      "m = 78 (nbhd size: 3)\n",
      "m = 79 (nbhd size: 1)\n",
      "m = 80 (nbhd size: 1)\n",
      "m = 81 (nbhd size: 2)\n",
      "m = 82 (nbhd size: 2)\n",
      "m = 83 (nbhd size: 2)\n",
      "m = 84 (nbhd size: 2)\n",
      "m = 85 (nbhd size: 1)\n",
      "m = 86 (nbhd size: 1)\n",
      "m = 87 (nbhd size: 2)\n",
      "m = 88 (nbhd size: 2)\n",
      "m = 89 (nbhd size: 2)\n",
      "m = 90 (nbhd size: 2)\n",
      "m = 91 (nbhd size: 2)\n",
      "m = 92 (nbhd size: 2)\n",
      "m = 93 (nbhd size: 2)\n",
      "m = 94 (nbhd size: 2)\n",
      "m = 95 (nbhd size: 2)\n",
      "m = 96 (nbhd size: 2)\n",
      "m = 97 (nbhd size: 2)\n",
      "m = 98 (nbhd size: 1)\n",
      "m = 99 (nbhd size: 3)\n",
      "m = 100 (nbhd size: 1)\n",
      "m = 101 (nbhd size: 3)\n",
      "m = 102 (nbhd size: 1)\n",
      "m = 103 (nbhd size: 3)\n",
      "m = 104 (nbhd size: 1)\n",
      "m = 105 (nbhd size: 3)\n",
      "m = 106 (nbhd size: 1)\n",
      "m = 107 (nbhd size: 3)\n",
      "Detected 157553 spikes\n",
      "*** MS5 Elapsed time for detect_spikes: 8.253 seconds ***\n",
      "Removing duplicate times\n",
      "*** MS5 Elapsed time for remove_duplicate_times: 0.003 seconds ***\n",
      "Extracting 156226 snippets\n",
      "*** MS5 Elapsed time for extract_snippets: 1.879 seconds ***\n",
      "Computing PCA features with npca=324\n",
      "*** MS5 Elapsed time for compute_pca_features: 32.243 seconds ***\n",
      "Isosplit6 clustering with npca_per_subdivision=10\n",
      "Found 84 clusters\n",
      "*** MS5 Elapsed time for isosplit6_subdivision_method: 135.467 seconds ***\n",
      "Computing templates\n",
      "*** MS5 Elapsed time for compute_templates: 14.240 seconds ***\n",
      "Determining optimal alignment of templates\n",
      "Template alignment converged.\n",
      "Align templates offsets:  [-1  3  2 -5 -4 -5  0 -1  1  0  0  0  1  1  0 10  1  2  3 -2  2  2  0  3\n",
      "  0  0  0  0  4  0  0  1  7 -1 -1  0  0  0  0  0  0 -1  2  2  0  0  0  0\n",
      " -1  0  0  0 -2  1  4  0  0  0  0  4  3  6  3  4 -6 -5 -5 -2  9  0  7 -1\n",
      " -2  0 -1  0  0  0  0  0  0  0  0 -4]\n",
      "*** MS5 Elapsed time for align_templates: 7.461 seconds ***\n",
      "Aligning snippets\n",
      "*** MS5 Elapsed time for align_snippets: 5.014 seconds ***\n",
      "Clustering aligned snippets\n",
      "Computing PCA features with npca=324\n",
      "*** MS5 Elapsed time for compute_pca_features: 27.590 seconds ***\n",
      "Isosplit6 clustering with npca_per_subdivision=10\n",
      "*** MS5 Elapsed time for isosplit6_subdivision_method: 132.746 seconds ***\n",
      "Found 86 clusters after alignment\n",
      "Computing templates\n",
      "*** MS5 Elapsed time for compute_templates: 14.048 seconds ***\n",
      "Offsetting times to peak\n",
      "Offsets to peak: [ -1  -2   0   0   0   1   1 -20  10 -20   0  -2   0   0   3   2   2   0\n",
      "   2   0   0   3   0   0   0  -1   0  -2   4   7   1  -1  -1   0   1   0\n",
      "   0   0   0   0   2   2  -1   0   0   0   0   0 -13 -10  -1   0   0   0\n",
      "   1  -2  -3   4   3   3   0   0   4  -6  -5  -5   0   0  -1  -1   0   9\n",
      "  -4   4   7   7  -2  -2   0   0   0   0   0 -20   0  -4]\n",
      "*** MS5 Elapsed time for determine_offsets_to_peak: 0.013 seconds ***\n",
      "Sorting times\n",
      "*** MS5 Elapsed time for sorting times: 0.002 seconds ***\n",
      "Removing out of bounds times\n",
      "*** MS5 Elapsed time for removing out of bounds times: 0.001 seconds ***\n",
      "Reordering units\n",
      "*** MS5 Elapsed time for reordering units: 0.008 seconds ***\n",
      "Creating sorting object\n",
      "*** MS5 Elapsed time for creating sorting object: 0.030 seconds ***\n"
     ]
    }
   ],
   "execution_count": 8
  },
  {
   "metadata": {},
   "cell_type": "markdown",
   "source": "Analysis",
   "id": "e10a02839cf1c4ea"
  },
  {
   "metadata": {
    "ExecuteTime": {
     "end_time": "2024-11-11T03:02:23.028985Z",
     "start_time": "2024-11-11T03:02:22.939434Z"
    }
   },
   "cell_type": "code",
   "source": [
    "print(sorting)\n",
    "se.NpzSortingExtractor.write_sorting(sorting, data_dir / 'sorting.npz')"
   ],
   "id": "2c87ae2d69f95d81",
   "outputs": [
    {
     "name": "stdout",
     "output_type": "stream",
     "text": [
      "NumpySorting: 86 units - 1 segments - 20.0kHz\n"
     ]
    }
   ],
   "execution_count": 13
  },
  {
   "metadata": {
    "ExecuteTime": {
     "end_time": "2024-11-11T03:14:01.207150Z",
     "start_time": "2024-11-11T03:12:43.997737Z"
    }
   },
   "cell_type": "code",
   "source": [
    "analyzer = si.create_sorting_analyzer(sorting, recording_preprocessed, format='binary_folder', folder=data_dir / 'analysis')\n",
    "print(analyzer)"
   ],
   "id": "5c8ce1d679ba44d2",
   "outputs": [
    {
     "name": "stderr",
     "output_type": "stream",
     "text": [
      "estimate_sparsity: 100%|##########| 601/601 [01:16<00:00,  7.81it/s]\n"
     ]
    },
    {
     "name": "stdout",
     "output_type": "stream",
     "text": [
      "SortingAnalyzer: 108 channels - 86 units - 1 segments - binary_folder - sparse - has recording\n",
      "Loaded 0 extensions\n"
     ]
    }
   ],
   "execution_count": 19
  },
  {
   "metadata": {
    "ExecuteTime": {
     "end_time": "2024-11-11T03:38:11.539314Z",
     "start_time": "2024-11-11T03:36:50.502060Z"
    }
   },
   "cell_type": "code",
   "source": [
    "job_kwargs = dict(n_jobs=8, chunk_duration=\"1s\", progress_bar=True)\n",
    "compute_dict = {\n",
    "    \"spike_amplitudes\": {},\n",
    "    'random_spikes': {'method': 'uniform', 'max_spikes_per_unit': 500},\n",
    "    'waveforms': {'ms_before': 1.0, 'ms_after': 2.0},\n",
    "    'templates': {'operators': [\"average\", \"median\", \"std\"]},\n",
    "    \"correlograms\": {\"bin_ms\": 0.1},\n",
    "    'noise_levels': {},\n",
    "}\n",
    "analyzer.compute(compute_dict, **job_kwargs)"
   ],
   "id": "ffbfc7080fa24f15",
   "outputs": [
    {
     "name": "stderr",
     "output_type": "stream",
     "text": [
      "C:\\Users\\LinLab_Workstation3\\Documents\\GitHub\\MountainSort-Pipeline\\venv\\Lib\\site-packages\\spikeinterface\\core\\job_tools.py:103: UserWarning: `n_jobs` is not set so parallel processing is disabled! To speed up computations, it is recommended to set n_jobs either globally (with the `spikeinterface.set_global_job_kwargs()` function) or locally (with the `n_jobs` argument). Use `spikeinterface.set_global_job_kwargs?` for more information about job_kwargs.\n",
      "  warnings.warn(\n",
      "compute_waveforms: 100%|██████████| 601/601 [00:16<00:00, 36.93it/s]\n",
      "Compute : spike_amplitudes: 100%|██████████| 601/601 [00:22<00:00, 27.18it/s]\n"
     ]
    }
   ],
   "execution_count": 22
  },
  {
   "metadata": {
    "ExecuteTime": {
     "end_time": "2024-11-11T03:38:15.105266Z",
     "start_time": "2024-11-11T03:38:11.558347Z"
    }
   },
   "cell_type": "code",
   "source": [
    "qm = {'firing_range': {'bin_size_s': 5, 'percentiles': (5, 95)},\n",
    " 'isi_violation': {'isi_threshold_ms': 1.5, 'min_isi_ms': 0},\n",
    " 'snr': {'peak_mode': 'extremum', 'peak_sign': 'neg'}}\n",
    "analyzer.compute(\"quality_metrics\", qm)"
   ],
   "id": "77ed01d650cc1ea",
   "outputs": [
    {
     "name": "stderr",
     "output_type": "stream",
     "text": [
      "C:\\Users\\LinLab_Workstation3\\Documents\\GitHub\\MountainSort-Pipeline\\venv\\Lib\\site-packages\\spikeinterface\\qualitymetrics\\misc_metrics.py:908: UserWarning: Some units have too few spikes : amplitude_cutoff is set to NaN\n",
      "  warnings.warn(f\"Some units have too few spikes : amplitude_cutoff is set to NaN\")\n",
      "C:\\Users\\LinLab_Workstation3\\Documents\\GitHub\\MountainSort-Pipeline\\venv\\Lib\\site-packages\\numpy\\core\\_methods.py:206: RuntimeWarning: Degrees of freedom <= 0 for slice\n",
      "  ret = _var(a, axis=axis, dtype=dtype, out=out, ddof=ddof,\n",
      "C:\\Users\\LinLab_Workstation3\\Documents\\GitHub\\MountainSort-Pipeline\\venv\\Lib\\site-packages\\numpy\\core\\_methods.py:163: RuntimeWarning: invalid value encountered in divide\n",
      "  arrmean = um.true_divide(arrmean, div, out=arrmean,\n",
      "C:\\Users\\LinLab_Workstation3\\Documents\\GitHub\\MountainSort-Pipeline\\venv\\Lib\\site-packages\\numpy\\core\\_methods.py:198: RuntimeWarning: invalid value encountered in divide\n",
      "  ret = ret.dtype.type(ret / rcount)\n"
     ]
    },
    {
     "data": {
      "text/plain": [
       "<spikeinterface.qualitymetrics.quality_metric_calculator.ComputeQualityMetrics at 0x20fab93d450>"
      ]
     },
     "execution_count": 23,
     "metadata": {},
     "output_type": "execute_result"
    }
   ],
   "execution_count": 23
  },
  {
   "metadata": {
    "ExecuteTime": {
     "end_time": "2024-11-11T03:49:03.584036Z",
     "start_time": "2024-11-11T03:43:52.231471Z"
    }
   },
   "cell_type": "code",
   "source": "sexp.export_to_phy(analyzer, data_dir / \"phy\", verbose=True, n_jobs=8)",
   "id": "2fa036b2bc1711c8",
   "outputs": [
    {
     "name": "stderr",
     "output_type": "stream",
     "text": [
      "C:\\Users\\LinLab_Workstation3\\Documents\\GitHub\\MountainSort-Pipeline\\venv\\Lib\\site-packages\\spikeinterface\\core\\job_tools.py:103: UserWarning: `n_jobs` is not set so parallel processing is disabled! To speed up computations, it is recommended to set n_jobs either globally (with the `spikeinterface.set_global_job_kwargs()` function) or locally (with the `n_jobs` argument). Use `spikeinterface.set_global_job_kwargs?` for more information about job_kwargs.\n",
      "  warnings.warn(\n",
      "write_binary_recording: 100%|##########| 601/601 [02:15<00:00,  4.43it/s]\n",
      "Fitting PCA: 100%|██████████| 86/86 [00:04<00:00, 21.00it/s]\n",
      "Projecting waveforms: 100%|██████████| 86/86 [00:00<00:00, 632.34it/s]\n",
      "extract PCs: 100%|##########| 601/601 [02:49<00:00,  3.54it/s]\n"
     ]
    },
    {
     "name": "stdout",
     "output_type": "stream",
     "text": [
      "Run:\n",
      "phy template-gui  G:\\mountainsort_result\\curved_120_design1\\20240905_m1\\w5\\phy\\params.py\n"
     ]
    }
   ],
   "execution_count": 26
  }
 ],
 "metadata": {
  "kernelspec": {
   "display_name": "Python 3",
   "language": "python",
   "name": "python3"
  },
  "language_info": {
   "codemirror_mode": {
    "name": "ipython",
    "version": 2
   },
   "file_extension": ".py",
   "mimetype": "text/x-python",
   "name": "python",
   "nbconvert_exporter": "python",
   "pygments_lexer": "ipython2",
   "version": "2.7.6"
  }
 },
 "nbformat": 4,
 "nbformat_minor": 5
}
