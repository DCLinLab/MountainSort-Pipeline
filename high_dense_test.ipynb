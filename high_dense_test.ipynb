{
 "cells": [
  {
   "metadata": {},
   "cell_type": "markdown",
   "source": "# Test MoutainSort5 on high density probes",
   "id": "e98f3b43c4531df4"
  },
  {
   "metadata": {
    "ExecuteTime": {
     "end_time": "2024-11-05T21:31:24.436528Z",
     "start_time": "2024-11-05T21:31:05.228124Z"
    }
   },
   "cell_type": "code",
   "source": [
    "from tempfile import TemporaryDirectory\n",
    "import numpy as np\n",
    "import spikeinterface.preprocessing as spre\n",
    "import mountainsort5 as ms5\n",
    "from mountainsort5.util import create_cached_recording\n",
    "from utils.loaders import rhd_load\n",
    "from pathlib import Path\n",
    "from probeinterface import read_probeinterface"
   ],
   "id": "dcea378a5526dace",
   "outputs": [],
   "execution_count": 2
  },
  {
   "metadata": {},
   "cell_type": "markdown",
   "source": [
    "## Try with scheme1\n",
    "Scheme1 is meant to test parameters"
   ],
   "id": "bc7bd2b65b098c3c"
  },
  {
   "metadata": {},
   "cell_type": "markdown",
   "source": "Load testing data",
   "id": "dab8a22e35a2a4c7"
  },
  {
   "metadata": {},
   "cell_type": "code",
   "outputs": [],
   "execution_count": null,
   "source": [
    "rhd_folder = Path(r'')\n",
    "recording = rhd_load(rhd_folder, (3, 13))\n",
    "probe = read_probeinterface('probe/120_curved.json')\n",
    "recording = recording.set_probe(probe)"
   ],
   "id": "8e1e9e109cfeb2d0"
  },
  {
   "metadata": {},
   "cell_type": "markdown",
   "source": "Preprocessing",
   "id": "d79da0420a4d6a1d"
  },
  {
   "metadata": {},
   "cell_type": "code",
   "outputs": [],
   "execution_count": null,
   "source": [
    "recording_filtered = spre.bandpass_filter(recording, freq_min=300, freq_max=6000, dtype=np.float32)\n",
    "recording_preprocessed = spre.whiten(recording_filtered)"
   ],
   "id": "580d1e81ebc2940b"
  },
  {
   "metadata": {},
   "cell_type": "markdown",
   "source": [
    "Sorting\n",
    "\n",
    "Params to care about:\n",
    "* sign of the spikes, default negative\n",
    "* detect channel radius: merge duplicated spike counts on nearby channels, default infinite\n",
    "* mask radius: remove interference to nearby channels"
   ],
   "id": "2543303616be3623"
  },
  {
   "metadata": {},
   "cell_type": "code",
   "outputs": [],
   "execution_count": null,
   "source": [
    "with TemporaryDirectory() as tmpdir:\n",
    "    # cache the recording to a temporary directory for efficient reading\n",
    "    recording_cached = create_cached_recording(recording_preprocessed, folder=tmpdir)\n",
    "\n",
    "    # use scheme 1\n",
    "    sorting = ms5.sorting_scheme1(\n",
    "        recording=recording_cached,\n",
    "        sorting_parameters=ms5.Scheme1SortingParameters(\n",
    "            detect_sign=-1,\n",
    "            detect_channel_radius=50,\n",
    "            snippet_mask_radius=100\n",
    "        )\n",
    "    )"
   ],
   "id": "1a8f0d6a68e3b587"
  },
  {
   "metadata": {},
   "cell_type": "markdown",
   "source": "Analysis",
   "id": "e10a02839cf1c4ea"
  },
  {
   "metadata": {},
   "cell_type": "code",
   "outputs": [],
   "execution_count": null,
   "source": "",
   "id": "2c87ae2d69f95d81"
  }
 ],
 "metadata": {
  "kernelspec": {
   "display_name": "Python 3",
   "language": "python",
   "name": "python3"
  },
  "language_info": {
   "codemirror_mode": {
    "name": "ipython",
    "version": 2
   },
   "file_extension": ".py",
   "mimetype": "text/x-python",
   "name": "python",
   "nbconvert_exporter": "python",
   "pygments_lexer": "ipython2",
   "version": "2.7.6"
  }
 },
 "nbformat": 4,
 "nbformat_minor": 5
}
